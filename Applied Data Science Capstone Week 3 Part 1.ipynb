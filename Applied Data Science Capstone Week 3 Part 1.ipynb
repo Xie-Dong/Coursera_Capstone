{
    "cells": [
        {
            "metadata": {
                "collapsed": true
            },
            "cell_type": "markdown",
            "source": "# Week 3 Assignment"
        },
        {
            "metadata": {},
            "cell_type": "markdown",
            "source": "## Part 1 "
        },
        {
            "metadata": {},
            "cell_type": "code",
            "source": "from urllib.request import urlopen\nfrom bs4 import BeautifulSoup\nimport re\nimport csv\nimport pandas as pd\nimport numpy as np\nimport requests",
            "execution_count": 11,
            "outputs": []
        },
        {
            "metadata": {},
            "cell_type": "markdown",
            "source": "### Using BeautifulSoup to extract the tag Tables"
        },
        {
            "metadata": {},
            "cell_type": "code",
            "source": "url = 'https://en.wikipedia.org/w/index.php?title=List_of_postal_codes_of_Canada:_M&direction=prev&oldid=926287641'\nreq = requests.get(url)\nsoup = BeautifulSoup(req.text, features='lxml')\nTables = soup.find('table', attrs={\"class\":\"wikitable sortable\"})\n#Tables",
            "execution_count": 12,
            "outputs": []
        },
        {
            "metadata": {},
            "cell_type": "markdown",
            "source": "### Store the Tables in CSV\n"
        },
        {
            "metadata": {},
            "cell_type": "code",
            "source": "with open('Toronto_Neighborhoods.csv','w',encoding='utf-8',newline='') as csvfile:\n    writer = csv.writer(csvfile, delimiter=',')\n    writer.writerow(['PostalCode','Borough','Neighborhood'])\n    for tr in Tables.tbody.find_all(\"tr\"):\n        datas = []\n        for td in tr.find_all(\"td\"):\n            datas.append(td.text.replace('\\n','').strip())\n        if(len(datas) > 0):\n            if(datas[1] != 'Not assigned'):\n                 writer.writerow(datas)",
            "execution_count": 13,
            "outputs": []
        },
        {
            "metadata": {},
            "cell_type": "code",
            "source": "df = pd.read_csv(\"Toronto_Neighborhoods.csv\")\ndf",
            "execution_count": 14,
            "outputs": [
                {
                    "output_type": "execute_result",
                    "execution_count": 14,
                    "data": {
                        "text/plain": "    PostalCode           Borough  \\\n0          M3A        North York   \n1          M4A        North York   \n2          M5A  Downtown Toronto   \n3          M5A  Downtown Toronto   \n4          M6A        North York   \n5          M6A        North York   \n6          M7A      Queen's Park   \n7          M9A         Etobicoke   \n8          M1B       Scarborough   \n9          M1B       Scarborough   \n10         M3B        North York   \n11         M4B         East York   \n12         M4B         East York   \n13         M5B  Downtown Toronto   \n14         M5B  Downtown Toronto   \n15         M6B        North York   \n16         M9B         Etobicoke   \n17         M9B         Etobicoke   \n18         M9B         Etobicoke   \n19         M9B         Etobicoke   \n20         M9B         Etobicoke   \n21         M1C       Scarborough   \n22         M1C       Scarborough   \n23         M1C       Scarborough   \n24         M3C        North York   \n25         M3C        North York   \n26         M4C         East York   \n27         M5C  Downtown Toronto   \n28         M6C              York   \n29         M9C         Etobicoke   \n..         ...               ...   \n181        M9V         Etobicoke   \n182        M1W       Scarborough   \n183        M4W  Downtown Toronto   \n184        M5W  Downtown Toronto   \n185        M8W         Etobicoke   \n186        M8W         Etobicoke   \n187        M9W         Etobicoke   \n188        M1X       Scarborough   \n189        M4X  Downtown Toronto   \n190        M4X  Downtown Toronto   \n191        M5X  Downtown Toronto   \n192        M5X  Downtown Toronto   \n193        M8X         Etobicoke   \n194        M8X         Etobicoke   \n195        M8X         Etobicoke   \n196        M4Y  Downtown Toronto   \n197        M7Y      East Toronto   \n198        M8Y         Etobicoke   \n199        M8Y         Etobicoke   \n200        M8Y         Etobicoke   \n201        M8Y         Etobicoke   \n202        M8Y         Etobicoke   \n203        M8Y         Etobicoke   \n204        M8Y         Etobicoke   \n205        M8Y         Etobicoke   \n206        M8Z         Etobicoke   \n207        M8Z         Etobicoke   \n208        M8Z         Etobicoke   \n209        M8Z         Etobicoke   \n210        M8Z         Etobicoke   \n\n                                          Neighborhood  \n0                                            Parkwoods  \n1                                     Victoria Village  \n2                                         Harbourfront  \n3                                          Regent Park  \n4                                     Lawrence Heights  \n5                                       Lawrence Manor  \n6                                         Not assigned  \n7                                     Islington Avenue  \n8                                                Rouge  \n9                                              Malvern  \n10                                     Don Mills North  \n11                                    Woodbine Gardens  \n12                                       Parkview Hill  \n13                                             Ryerson  \n14                                     Garden District  \n15                                           Glencairn  \n16                                          Cloverdale  \n17                                           Islington  \n18                                        Martin Grove  \n19                                    Princess Gardens  \n20                                     West Deane Park  \n21                                      Highland Creek  \n22                                          Rouge Hill  \n23                                          Port Union  \n24                                     Flemingdon Park  \n25                                     Don Mills South  \n26                                    Woodbine Heights  \n27                                      St. James Town  \n28                                  Humewood-Cedarvale  \n29                                   Bloordale Gardens  \n..                                                 ...  \n181                                        Thistletown  \n182                                    L'Amoreaux West  \n183                                           Rosedale  \n184                    Stn A PO Boxes 25 The Esplanade  \n185                                          Alderwood  \n186                                        Long Branch  \n187                                          Northwest  \n188                                        Upper Rouge  \n189                                        Cabbagetown  \n190                                     St. James Town  \n191                               First Canadian Place  \n192                                   Underground city  \n193                                       The Kingsway  \n194                                    Montgomery Road  \n195                                     Old Mill North  \n196                               Church and Wellesley  \n197  Business Reply Mail Processing Centre 969 Eastern  \n198                                         Humber Bay  \n199                                   King's Mill Park  \n200                           Kingsway Park South East  \n201                                          Mimico NE  \n202                                     Old Mill South  \n203                                 The Queensway East  \n204                              Royal York South East  \n205                                           Sunnylea  \n206                           Kingsway Park South West  \n207                                          Mimico NW  \n208                                 The Queensway West  \n209                              Royal York South West  \n210                                     South of Bloor  \n\n[211 rows x 3 columns]",
                        "text/html": "<div>\n<style scoped>\n    .dataframe tbody tr th:only-of-type {\n        vertical-align: middle;\n    }\n\n    .dataframe tbody tr th {\n        vertical-align: top;\n    }\n\n    .dataframe thead th {\n        text-align: right;\n    }\n</style>\n<table border=\"1\" class=\"dataframe\">\n  <thead>\n    <tr style=\"text-align: right;\">\n      <th></th>\n      <th>PostalCode</th>\n      <th>Borough</th>\n      <th>Neighborhood</th>\n    </tr>\n  </thead>\n  <tbody>\n    <tr>\n      <th>0</th>\n      <td>M3A</td>\n      <td>North York</td>\n      <td>Parkwoods</td>\n    </tr>\n    <tr>\n      <th>1</th>\n      <td>M4A</td>\n      <td>North York</td>\n      <td>Victoria Village</td>\n    </tr>\n    <tr>\n      <th>2</th>\n      <td>M5A</td>\n      <td>Downtown Toronto</td>\n      <td>Harbourfront</td>\n    </tr>\n    <tr>\n      <th>3</th>\n      <td>M5A</td>\n      <td>Downtown Toronto</td>\n      <td>Regent Park</td>\n    </tr>\n    <tr>\n      <th>4</th>\n      <td>M6A</td>\n      <td>North York</td>\n      <td>Lawrence Heights</td>\n    </tr>\n    <tr>\n      <th>5</th>\n      <td>M6A</td>\n      <td>North York</td>\n      <td>Lawrence Manor</td>\n    </tr>\n    <tr>\n      <th>6</th>\n      <td>M7A</td>\n      <td>Queen's Park</td>\n      <td>Not assigned</td>\n    </tr>\n    <tr>\n      <th>7</th>\n      <td>M9A</td>\n      <td>Etobicoke</td>\n      <td>Islington Avenue</td>\n    </tr>\n    <tr>\n      <th>8</th>\n      <td>M1B</td>\n      <td>Scarborough</td>\n      <td>Rouge</td>\n    </tr>\n    <tr>\n      <th>9</th>\n      <td>M1B</td>\n      <td>Scarborough</td>\n      <td>Malvern</td>\n    </tr>\n    <tr>\n      <th>10</th>\n      <td>M3B</td>\n      <td>North York</td>\n      <td>Don Mills North</td>\n    </tr>\n    <tr>\n      <th>11</th>\n      <td>M4B</td>\n      <td>East York</td>\n      <td>Woodbine Gardens</td>\n    </tr>\n    <tr>\n      <th>12</th>\n      <td>M4B</td>\n      <td>East York</td>\n      <td>Parkview Hill</td>\n    </tr>\n    <tr>\n      <th>13</th>\n      <td>M5B</td>\n      <td>Downtown Toronto</td>\n      <td>Ryerson</td>\n    </tr>\n    <tr>\n      <th>14</th>\n      <td>M5B</td>\n      <td>Downtown Toronto</td>\n      <td>Garden District</td>\n    </tr>\n    <tr>\n      <th>15</th>\n      <td>M6B</td>\n      <td>North York</td>\n      <td>Glencairn</td>\n    </tr>\n    <tr>\n      <th>16</th>\n      <td>M9B</td>\n      <td>Etobicoke</td>\n      <td>Cloverdale</td>\n    </tr>\n    <tr>\n      <th>17</th>\n      <td>M9B</td>\n      <td>Etobicoke</td>\n      <td>Islington</td>\n    </tr>\n    <tr>\n      <th>18</th>\n      <td>M9B</td>\n      <td>Etobicoke</td>\n      <td>Martin Grove</td>\n    </tr>\n    <tr>\n      <th>19</th>\n      <td>M9B</td>\n      <td>Etobicoke</td>\n      <td>Princess Gardens</td>\n    </tr>\n    <tr>\n      <th>20</th>\n      <td>M9B</td>\n      <td>Etobicoke</td>\n      <td>West Deane Park</td>\n    </tr>\n    <tr>\n      <th>21</th>\n      <td>M1C</td>\n      <td>Scarborough</td>\n      <td>Highland Creek</td>\n    </tr>\n    <tr>\n      <th>22</th>\n      <td>M1C</td>\n      <td>Scarborough</td>\n      <td>Rouge Hill</td>\n    </tr>\n    <tr>\n      <th>23</th>\n      <td>M1C</td>\n      <td>Scarborough</td>\n      <td>Port Union</td>\n    </tr>\n    <tr>\n      <th>24</th>\n      <td>M3C</td>\n      <td>North York</td>\n      <td>Flemingdon Park</td>\n    </tr>\n    <tr>\n      <th>25</th>\n      <td>M3C</td>\n      <td>North York</td>\n      <td>Don Mills South</td>\n    </tr>\n    <tr>\n      <th>26</th>\n      <td>M4C</td>\n      <td>East York</td>\n      <td>Woodbine Heights</td>\n    </tr>\n    <tr>\n      <th>27</th>\n      <td>M5C</td>\n      <td>Downtown Toronto</td>\n      <td>St. James Town</td>\n    </tr>\n    <tr>\n      <th>28</th>\n      <td>M6C</td>\n      <td>York</td>\n      <td>Humewood-Cedarvale</td>\n    </tr>\n    <tr>\n      <th>29</th>\n      <td>M9C</td>\n      <td>Etobicoke</td>\n      <td>Bloordale Gardens</td>\n    </tr>\n    <tr>\n      <th>...</th>\n      <td>...</td>\n      <td>...</td>\n      <td>...</td>\n    </tr>\n    <tr>\n      <th>181</th>\n      <td>M9V</td>\n      <td>Etobicoke</td>\n      <td>Thistletown</td>\n    </tr>\n    <tr>\n      <th>182</th>\n      <td>M1W</td>\n      <td>Scarborough</td>\n      <td>L'Amoreaux West</td>\n    </tr>\n    <tr>\n      <th>183</th>\n      <td>M4W</td>\n      <td>Downtown Toronto</td>\n      <td>Rosedale</td>\n    </tr>\n    <tr>\n      <th>184</th>\n      <td>M5W</td>\n      <td>Downtown Toronto</td>\n      <td>Stn A PO Boxes 25 The Esplanade</td>\n    </tr>\n    <tr>\n      <th>185</th>\n      <td>M8W</td>\n      <td>Etobicoke</td>\n      <td>Alderwood</td>\n    </tr>\n    <tr>\n      <th>186</th>\n      <td>M8W</td>\n      <td>Etobicoke</td>\n      <td>Long Branch</td>\n    </tr>\n    <tr>\n      <th>187</th>\n      <td>M9W</td>\n      <td>Etobicoke</td>\n      <td>Northwest</td>\n    </tr>\n    <tr>\n      <th>188</th>\n      <td>M1X</td>\n      <td>Scarborough</td>\n      <td>Upper Rouge</td>\n    </tr>\n    <tr>\n      <th>189</th>\n      <td>M4X</td>\n      <td>Downtown Toronto</td>\n      <td>Cabbagetown</td>\n    </tr>\n    <tr>\n      <th>190</th>\n      <td>M4X</td>\n      <td>Downtown Toronto</td>\n      <td>St. James Town</td>\n    </tr>\n    <tr>\n      <th>191</th>\n      <td>M5X</td>\n      <td>Downtown Toronto</td>\n      <td>First Canadian Place</td>\n    </tr>\n    <tr>\n      <th>192</th>\n      <td>M5X</td>\n      <td>Downtown Toronto</td>\n      <td>Underground city</td>\n    </tr>\n    <tr>\n      <th>193</th>\n      <td>M8X</td>\n      <td>Etobicoke</td>\n      <td>The Kingsway</td>\n    </tr>\n    <tr>\n      <th>194</th>\n      <td>M8X</td>\n      <td>Etobicoke</td>\n      <td>Montgomery Road</td>\n    </tr>\n    <tr>\n      <th>195</th>\n      <td>M8X</td>\n      <td>Etobicoke</td>\n      <td>Old Mill North</td>\n    </tr>\n    <tr>\n      <th>196</th>\n      <td>M4Y</td>\n      <td>Downtown Toronto</td>\n      <td>Church and Wellesley</td>\n    </tr>\n    <tr>\n      <th>197</th>\n      <td>M7Y</td>\n      <td>East Toronto</td>\n      <td>Business Reply Mail Processing Centre 969 Eastern</td>\n    </tr>\n    <tr>\n      <th>198</th>\n      <td>M8Y</td>\n      <td>Etobicoke</td>\n      <td>Humber Bay</td>\n    </tr>\n    <tr>\n      <th>199</th>\n      <td>M8Y</td>\n      <td>Etobicoke</td>\n      <td>King's Mill Park</td>\n    </tr>\n    <tr>\n      <th>200</th>\n      <td>M8Y</td>\n      <td>Etobicoke</td>\n      <td>Kingsway Park South East</td>\n    </tr>\n    <tr>\n      <th>201</th>\n      <td>M8Y</td>\n      <td>Etobicoke</td>\n      <td>Mimico NE</td>\n    </tr>\n    <tr>\n      <th>202</th>\n      <td>M8Y</td>\n      <td>Etobicoke</td>\n      <td>Old Mill South</td>\n    </tr>\n    <tr>\n      <th>203</th>\n      <td>M8Y</td>\n      <td>Etobicoke</td>\n      <td>The Queensway East</td>\n    </tr>\n    <tr>\n      <th>204</th>\n      <td>M8Y</td>\n      <td>Etobicoke</td>\n      <td>Royal York South East</td>\n    </tr>\n    <tr>\n      <th>205</th>\n      <td>M8Y</td>\n      <td>Etobicoke</td>\n      <td>Sunnylea</td>\n    </tr>\n    <tr>\n      <th>206</th>\n      <td>M8Z</td>\n      <td>Etobicoke</td>\n      <td>Kingsway Park South West</td>\n    </tr>\n    <tr>\n      <th>207</th>\n      <td>M8Z</td>\n      <td>Etobicoke</td>\n      <td>Mimico NW</td>\n    </tr>\n    <tr>\n      <th>208</th>\n      <td>M8Z</td>\n      <td>Etobicoke</td>\n      <td>The Queensway West</td>\n    </tr>\n    <tr>\n      <th>209</th>\n      <td>M8Z</td>\n      <td>Etobicoke</td>\n      <td>Royal York South West</td>\n    </tr>\n    <tr>\n      <th>210</th>\n      <td>M8Z</td>\n      <td>Etobicoke</td>\n      <td>South of Bloor</td>\n    </tr>\n  </tbody>\n</table>\n<p>211 rows \u00d7 3 columns</p>\n</div>"
                    },
                    "metadata": {}
                }
            ]
        },
        {
            "metadata": {},
            "cell_type": "markdown",
            "source": "### Clean the data"
        },
        {
            "metadata": {},
            "cell_type": "code",
            "source": "data1 = df.groupby(by=['PostalCode','Borough']).apply(lambda x:','.join(x['Neighborhood']))\ndata1",
            "execution_count": 15,
            "outputs": [
                {
                    "output_type": "execute_result",
                    "execution_count": 15,
                    "data": {
                        "text/plain": "PostalCode  Borough         \nM1B         Scarborough                                             Rouge,Malvern\nM1C         Scarborough                      Highland Creek,Rouge Hill,Port Union\nM1E         Scarborough                           Guildwood,Morningside,West Hill\nM1G         Scarborough                                                    Woburn\nM1H         Scarborough                                                 Cedarbrae\nM1J         Scarborough                                       Scarborough Village\nM1K         Scarborough                 East Birchmount Park,Ionview,Kennedy Park\nM1L         Scarborough                             Clairlea,Golden Mile,Oakridge\nM1M         Scarborough             Cliffcrest,Cliffside,Scarborough Village West\nM1N         Scarborough                                Birch Cliff,Cliffside West\nM1P         Scarborough         Dorset Park,Scarborough Town Centre,Wexford He...\nM1R         Scarborough                                          Maryvale,Wexford\nM1S         Scarborough                                                 Agincourt\nM1T         Scarborough                     Clarks Corners,Sullivan,Tam O'Shanter\nM1V         Scarborough         Agincourt North,L'Amoreaux East,Milliken,Steel...\nM1W         Scarborough                                           L'Amoreaux West\nM1X         Scarborough                                               Upper Rouge\nM2H         North York                                          Hillcrest Village\nM2J         North York                                 Fairview,Henry Farm,Oriole\nM2K         North York                                            Bayview Village\nM2L         North York                                    Silver Hills,York Mills\nM2M         North York                                     Newtonbrook,Willowdale\nM2N         North York                                           Willowdale South\nM2P         North York                                            York Mills West\nM2R         North York                                            Willowdale West\nM3A         North York                                                  Parkwoods\nM3B         North York                                            Don Mills North\nM3C         North York                            Flemingdon Park,Don Mills South\nM3H         North York              Bathurst Manor,Downsview North,Wilson Heights\nM3J         North York                             Northwood Park,York University\n                                                      ...                        \nM6C         York                                               Humewood-Cedarvale\nM6E         York                                              Caledonia-Fairbanks\nM6G         Downtown Toronto                                             Christie\nM6H         West Toronto                              Dovercourt Village,Dufferin\nM6J         West Toronto                                  Little Portugal,Trinity\nM6K         West Toronto               Brockton,Exhibition Place,Parkdale Village\nM6L         North York                           Downsview,North Park,Upwood Park\nM6M         York                      Del Ray,Keelesdale,Mount Dennis,Silverthorn\nM6N         York                                     The Junction North,Runnymede\nM6P         West Toronto                             High Park,The Junction South\nM6R         West Toronto                                    Parkdale,Roncesvalles\nM6S         West Toronto                                        Runnymede,Swansea\nM7A         Queen's Park                                             Not assigned\nM7R         Mississauga                     Canada Post Gateway Processing Centre\nM7Y         East Toronto        Business Reply Mail Processing Centre 969 Eastern\nM8V         Etobicoke                  Humber Bay Shores,Mimico South,New Toronto\nM8W         Etobicoke                                       Alderwood,Long Branch\nM8X         Etobicoke                 The Kingsway,Montgomery Road,Old Mill North\nM8Y         Etobicoke           Humber Bay,King's Mill Park,Kingsway Park Sout...\nM8Z         Etobicoke           Kingsway Park South West,Mimico NW,The Queensw...\nM9A         Etobicoke                                            Islington Avenue\nM9B         Etobicoke           Cloverdale,Islington,Martin Grove,Princess Gar...\nM9C         Etobicoke           Bloordale Gardens,Eringate,Markland Wood,Old B...\nM9L         North York                                              Humber Summit\nM9M         North York                                            Emery,Humberlea\nM9N         York                                                           Weston\nM9P         Etobicoke                                                   Westmount\nM9R         Etobicoke           Kingsview Village,Martin Grove Gardens,Richvie...\nM9V         Etobicoke           Albion Gardens,Beaumond Heights,Humbergate,Jam...\nM9W         Etobicoke                                                   Northwest\nLength: 103, dtype: object"
                    },
                    "metadata": {}
                }
            ]
        },
        {
            "metadata": {},
            "cell_type": "code",
            "source": "nb_data = pd.DataFrame(data1)\nnb_data = nb_data.reset_index()\nnb_data.rename(columns={0:'Neighborhood'}, inplace=True) \nnb_data.head()",
            "execution_count": 16,
            "outputs": [
                {
                    "output_type": "execute_result",
                    "execution_count": 16,
                    "data": {
                        "text/plain": "  PostalCode      Borough                          Neighborhood\n0        M1B  Scarborough                         Rouge,Malvern\n1        M1C  Scarborough  Highland Creek,Rouge Hill,Port Union\n2        M1E  Scarborough       Guildwood,Morningside,West Hill\n3        M1G  Scarborough                                Woburn\n4        M1H  Scarborough                             Cedarbrae",
                        "text/html": "<div>\n<style scoped>\n    .dataframe tbody tr th:only-of-type {\n        vertical-align: middle;\n    }\n\n    .dataframe tbody tr th {\n        vertical-align: top;\n    }\n\n    .dataframe thead th {\n        text-align: right;\n    }\n</style>\n<table border=\"1\" class=\"dataframe\">\n  <thead>\n    <tr style=\"text-align: right;\">\n      <th></th>\n      <th>PostalCode</th>\n      <th>Borough</th>\n      <th>Neighborhood</th>\n    </tr>\n  </thead>\n  <tbody>\n    <tr>\n      <th>0</th>\n      <td>M1B</td>\n      <td>Scarborough</td>\n      <td>Rouge,Malvern</td>\n    </tr>\n    <tr>\n      <th>1</th>\n      <td>M1C</td>\n      <td>Scarborough</td>\n      <td>Highland Creek,Rouge Hill,Port Union</td>\n    </tr>\n    <tr>\n      <th>2</th>\n      <td>M1E</td>\n      <td>Scarborough</td>\n      <td>Guildwood,Morningside,West Hill</td>\n    </tr>\n    <tr>\n      <th>3</th>\n      <td>M1G</td>\n      <td>Scarborough</td>\n      <td>Woburn</td>\n    </tr>\n    <tr>\n      <th>4</th>\n      <td>M1H</td>\n      <td>Scarborough</td>\n      <td>Cedarbrae</td>\n    </tr>\n  </tbody>\n</table>\n</div>"
                    },
                    "metadata": {}
                }
            ]
        },
        {
            "metadata": {},
            "cell_type": "markdown",
            "source": "### Save as CSV"
        },
        {
            "metadata": {},
            "cell_type": "code",
            "source": "nb_data.to_csv(\"Toronto_Neighborhoods.csv\",index=False,sep=',')",
            "execution_count": 17,
            "outputs": []
        },
        {
            "metadata": {},
            "cell_type": "code",
            "source": "",
            "execution_count": null,
            "outputs": []
        }
    ],
    "metadata": {
        "kernelspec": {
            "name": "python3",
            "display_name": "Python 3.6",
            "language": "python"
        },
        "language_info": {
            "name": "python",
            "version": "3.6.9",
            "mimetype": "text/x-python",
            "codemirror_mode": {
                "name": "ipython",
                "version": 3
            },
            "pygments_lexer": "ipython3",
            "nbconvert_exporter": "python",
            "file_extension": ".py"
        }
    },
    "nbformat": 4,
    "nbformat_minor": 1
}